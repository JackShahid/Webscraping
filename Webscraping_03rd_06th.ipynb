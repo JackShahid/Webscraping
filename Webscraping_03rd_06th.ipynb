{
 "cells": [
  {
   "cell_type": "markdown",
   "metadata": {},
   "source": [
    "# 6. Write a program to scrap details of all the funding deals for second quarter (i.e. July 20 –September 20) from trak.in."
   ]
  },
  {
   "cell_type": "code",
   "execution_count": 1,
   "metadata": {},
   "outputs": [],
   "source": [
    "import pandas as pd\n",
    "import selenium \n",
    "from selenium import webdriver\n",
    "from selenium.common.exceptions import StaleElementReferenceException, NoSuchElementException "
   ]
  },
  {
   "cell_type": "code",
   "execution_count": 4,
   "metadata": {},
   "outputs": [],
   "source": [
    "browser = webdriver.Chrome(\"chromedriver.exe\")"
   ]
  },
  {
   "cell_type": "code",
   "execution_count": 5,
   "metadata": {},
   "outputs": [],
   "source": [
    "browser.get(\"https://trak.in/india-startup-funding-investment-2015/\")"
   ]
  },
  {
   "cell_type": "code",
   "execution_count": 6,
   "metadata": {},
   "outputs": [
    {
     "data": {
      "text/plain": [
       "[<selenium.webdriver.remote.webelement.WebElement (session=\"1afcdd2fd67da448cdd9f30e0384eca6\", element=\"252f9c9a-63a3-4ee8-b848-74294b7670f4\")>,\n",
       " <selenium.webdriver.remote.webelement.WebElement (session=\"1afcdd2fd67da448cdd9f30e0384eca6\", element=\"9351c168-e679-47d1-93d5-3e88d0994604\")>,\n",
       " <selenium.webdriver.remote.webelement.WebElement (session=\"1afcdd2fd67da448cdd9f30e0384eca6\", element=\"a3efee93-b408-454f-98a7-43540dd986b1\")>,\n",
       " <selenium.webdriver.remote.webelement.WebElement (session=\"1afcdd2fd67da448cdd9f30e0384eca6\", element=\"059b47bc-578c-4c8e-9cf6-5c5218e00e45\")>,\n",
       " <selenium.webdriver.remote.webelement.WebElement (session=\"1afcdd2fd67da448cdd9f30e0384eca6\", element=\"98c18794-ac5e-495c-bfc3-d626edfa2177\")>,\n",
       " <selenium.webdriver.remote.webelement.WebElement (session=\"1afcdd2fd67da448cdd9f30e0384eca6\", element=\"26d7762b-8136-4e31-acf5-615afea1174e\")>,\n",
       " <selenium.webdriver.remote.webelement.WebElement (session=\"1afcdd2fd67da448cdd9f30e0384eca6\", element=\"35669aa3-519b-4299-a61a-da676c6b25fd\")>,\n",
       " <selenium.webdriver.remote.webelement.WebElement (session=\"1afcdd2fd67da448cdd9f30e0384eca6\", element=\"515c2154-fb8c-48b9-bb00-bc4bf80d5b08\")>,\n",
       " <selenium.webdriver.remote.webelement.WebElement (session=\"1afcdd2fd67da448cdd9f30e0384eca6\", element=\"f5d3bbeb-f34f-4a54-bde4-1e689152817f\")>,\n",
       " <selenium.webdriver.remote.webelement.WebElement (session=\"1afcdd2fd67da448cdd9f30e0384eca6\", element=\"f19afbb2-baee-4184-95a7-aa0efa763dda\")>,\n",
       " <selenium.webdriver.remote.webelement.WebElement (session=\"1afcdd2fd67da448cdd9f30e0384eca6\", element=\"a1596404-f963-4240-a252-f003fc16bd44\")>,\n",
       " <selenium.webdriver.remote.webelement.WebElement (session=\"1afcdd2fd67da448cdd9f30e0384eca6\", element=\"71260195-3d72-42f8-9d53-6bbedf8432c1\")>,\n",
       " <selenium.webdriver.remote.webelement.WebElement (session=\"1afcdd2fd67da448cdd9f30e0384eca6\", element=\"72694417-1edd-456d-b5a3-7f8521c37cc1\")>,\n",
       " <selenium.webdriver.remote.webelement.WebElement (session=\"1afcdd2fd67da448cdd9f30e0384eca6\", element=\"976681f5-d825-476e-ba0a-a1d65950d833\")>,\n",
       " <selenium.webdriver.remote.webelement.WebElement (session=\"1afcdd2fd67da448cdd9f30e0384eca6\", element=\"7567d650-bdda-4070-ae71-363261121cc2\")>,\n",
       " <selenium.webdriver.remote.webelement.WebElement (session=\"1afcdd2fd67da448cdd9f30e0384eca6\", element=\"25e27633-fbad-43e0-844f-5cf1c1954333\")>,\n",
       " <selenium.webdriver.remote.webelement.WebElement (session=\"1afcdd2fd67da448cdd9f30e0384eca6\", element=\"69b13b9b-79eb-4db1-b07e-721af30a9ab0\")>,\n",
       " <selenium.webdriver.remote.webelement.WebElement (session=\"1afcdd2fd67da448cdd9f30e0384eca6\", element=\"c6c7c990-2b70-4a8c-a955-b26d5871e062\")>,\n",
       " <selenium.webdriver.remote.webelement.WebElement (session=\"1afcdd2fd67da448cdd9f30e0384eca6\", element=\"190d6741-ac15-428b-8669-d5c59b0a4264\")>,\n",
       " <selenium.webdriver.remote.webelement.WebElement (session=\"1afcdd2fd67da448cdd9f30e0384eca6\", element=\"0857a610-c457-45c1-9915-a865b4dfffeb\")>,\n",
       " <selenium.webdriver.remote.webelement.WebElement (session=\"1afcdd2fd67da448cdd9f30e0384eca6\", element=\"342644f1-6c80-4616-bf85-c0343445affd\")>,\n",
       " <selenium.webdriver.remote.webelement.WebElement (session=\"1afcdd2fd67da448cdd9f30e0384eca6\", element=\"dee346dd-5f93-48dc-b9ad-0e065949d1dc\")>,\n",
       " <selenium.webdriver.remote.webelement.WebElement (session=\"1afcdd2fd67da448cdd9f30e0384eca6\", element=\"44c7bba4-66c9-4a20-94d1-a3e23425eed0\")>,\n",
       " <selenium.webdriver.remote.webelement.WebElement (session=\"1afcdd2fd67da448cdd9f30e0384eca6\", element=\"33bcb87a-c48b-4112-b61f-185898eb1eb0\")>,\n",
       " <selenium.webdriver.remote.webelement.WebElement (session=\"1afcdd2fd67da448cdd9f30e0384eca6\", element=\"532c5e8c-1d7b-4522-820e-40254e0ff98a\")>,\n",
       " <selenium.webdriver.remote.webelement.WebElement (session=\"1afcdd2fd67da448cdd9f30e0384eca6\", element=\"d2ac7019-cf16-4b6f-9a66-b0267ab70cce\")>,\n",
       " <selenium.webdriver.remote.webelement.WebElement (session=\"1afcdd2fd67da448cdd9f30e0384eca6\", element=\"df9a7fa2-f1cc-4ebd-a01e-a2a42ea74ab5\")>,\n",
       " <selenium.webdriver.remote.webelement.WebElement (session=\"1afcdd2fd67da448cdd9f30e0384eca6\", element=\"1d7809ae-794c-4682-a739-1c09cc2990cd\")>,\n",
       " <selenium.webdriver.remote.webelement.WebElement (session=\"1afcdd2fd67da448cdd9f30e0384eca6\", element=\"59e77d8c-3886-4559-84bd-8e119635426d\")>,\n",
       " <selenium.webdriver.remote.webelement.WebElement (session=\"1afcdd2fd67da448cdd9f30e0384eca6\", element=\"291f221a-c7ab-45ab-ae81-7bf604a7f6f2\")>,\n",
       " <selenium.webdriver.remote.webelement.WebElement (session=\"1afcdd2fd67da448cdd9f30e0384eca6\", element=\"62740a12-b9a6-4d0d-8c7e-987dd66e6503\")>,\n",
       " <selenium.webdriver.remote.webelement.WebElement (session=\"1afcdd2fd67da448cdd9f30e0384eca6\", element=\"883bf24c-71dd-4c5f-847f-de89d0a40403\")>,\n",
       " <selenium.webdriver.remote.webelement.WebElement (session=\"1afcdd2fd67da448cdd9f30e0384eca6\", element=\"56b83f78-5c7d-4d94-8431-e6aa0ae2211c\")>,\n",
       " <selenium.webdriver.remote.webelement.WebElement (session=\"1afcdd2fd67da448cdd9f30e0384eca6\", element=\"cd0f6a17-8816-4825-9003-e37b9278f62b\")>,\n",
       " <selenium.webdriver.remote.webelement.WebElement (session=\"1afcdd2fd67da448cdd9f30e0384eca6\", element=\"a11c8f24-2f64-4069-be79-b5eaf812d019\")>,\n",
       " <selenium.webdriver.remote.webelement.WebElement (session=\"1afcdd2fd67da448cdd9f30e0384eca6\", element=\"6db37db4-999f-4a30-9a2e-e7387fb8e216\")>,\n",
       " <selenium.webdriver.remote.webelement.WebElement (session=\"1afcdd2fd67da448cdd9f30e0384eca6\", element=\"4054c13a-d1e0-4c27-8b73-fb745fdeacc3\")>,\n",
       " <selenium.webdriver.remote.webelement.WebElement (session=\"1afcdd2fd67da448cdd9f30e0384eca6\", element=\"aa7c37d4-190f-4ce7-a6a9-7bdf155f78ef\")>,\n",
       " <selenium.webdriver.remote.webelement.WebElement (session=\"1afcdd2fd67da448cdd9f30e0384eca6\", element=\"a68223b2-5eff-4abc-baaa-88a0edd32ef5\")>,\n",
       " <selenium.webdriver.remote.webelement.WebElement (session=\"1afcdd2fd67da448cdd9f30e0384eca6\", element=\"1551ce4e-29fe-4558-94f5-f404426cee2e\")>,\n",
       " <selenium.webdriver.remote.webelement.WebElement (session=\"1afcdd2fd67da448cdd9f30e0384eca6\", element=\"b9eba0eb-b4ee-40f3-8538-eb31957b4e85\")>,\n",
       " <selenium.webdriver.remote.webelement.WebElement (session=\"1afcdd2fd67da448cdd9f30e0384eca6\", element=\"109b6263-56b1-43d1-87fc-62fcf7c14bfa\")>,\n",
       " <selenium.webdriver.remote.webelement.WebElement (session=\"1afcdd2fd67da448cdd9f30e0384eca6\", element=\"c35a59f8-44f5-4cab-89f4-2f0fb0f2fb64\")>,\n",
       " <selenium.webdriver.remote.webelement.WebElement (session=\"1afcdd2fd67da448cdd9f30e0384eca6\", element=\"ff92b780-4f48-4048-aecc-4f3769538618\")>,\n",
       " <selenium.webdriver.remote.webelement.WebElement (session=\"1afcdd2fd67da448cdd9f30e0384eca6\", element=\"1dd5f881-b5b7-47bf-a35b-3950b702a52c\")>]"
      ]
     },
     "execution_count": 6,
     "metadata": {},
     "output_type": "execute_result"
    }
   ],
   "source": [
    "title_tags = browser.find_elements_by_xpath(\"//div[@class='dataTables_scroll']\")\n",
    "title_tags"
   ]
  },
  {
   "cell_type": "code",
   "execution_count": 7,
   "metadata": {},
   "outputs": [],
   "source": [
    "titles=[]\n",
    "for i in title_tags:\n",
    "    title=i.text\n",
    "    titles.append(title)"
   ]
  },
  {
   "cell_type": "code",
   "execution_count": 8,
   "metadata": {},
   "outputs": [
    {
     "data": {
      "text/plain": [
       "[\"Sr. No. Date (dd/mm/yyyy) Startup Name Industry / Vertical Sub-Vertical City / Location Investors' Name Investment Type Amount (In USD)\\n1 08/09/2020 Byju’s EduTech Online Tutoring Bangalore Silver Lake, Tiger Global, General Atlantic and Owl Ventures\\nPrivate Equity 500,000,000\\n2 12/09/2020 mCaffeine Personal Care Skincare & Haircare Mumbai Amicus Capital Private Equity I LLP, Amicus Capital Partners India Fund I and RP-SG Venture Fund 1 Series B 3,000,000\\n3 09/09/2020 Qshala EduTech Online Curiosity Platform for Kids Bangalore Rainmatter Capital Angel 370,000\\n4 02/09/2020 Winzo Online Gaming Online Gaming New Delhi Kalaari Capital Partners, IndigoEdge Management Consultancy Series B 15,500,000\\n5 09/09/2020 Hippo Video Video Customer Experience(CX) Platform Video Customer Experience(CX) Platform Newark, Delaware, United States of Amercia Alpha Wave Incubation, Exfinity Venture Partners and existing backers.\\nSeries A 4,500,000\\n6 07/09/2020 Melorra E-commerce Online Jewelry Store\\nBangalore Shadow Holdings, Lightbox. Debt Financing upto 8,900,000\\n7 07/09/2020 1mg E-commerce Online Pharmacy Gurgaon Gaja Capital, Tata Capital, Partners Group In Progress 100,000,000\\n8 31/08/2020 mfine HealthTech On-Demand Healthcare Services Bangalore Caretech Pte Inc Series B 5,400,000\\n9 31/08/2020 Apna Human Resources Recruitment Platform Bangalore Lightspeed India and Sequoia Capital India Series A 8,000,000\\n10 03/09/2020 Railofy Transportation WL & RAC protection platform Mumbai Chiratae Ventures Seed 950,000\",\n",
       " \"Sr. No. Date (dd/mm/yyyy) Startup Name Industry / Vertical Sub-Vertical City / Location Investors' Name Investment Type Amount (In USD)\\n1 15/08/2020 Practo HealthTech Health care and Wellness Bangalore A1A Company\\nSeries F 32,000,000\\n2 13/08/2020 Medlife E-commerce Online Pharmacy Bangalore Prasid Uno Family Trust and SC Credit Fund 23,000,000\\n3 13/08/2020 HungerBox\\nFoodTech Online Food Delivery Service Bangalore One97, Sabre Partners Trust, Pratithi Investment Trust, and Srihari Kumar Series D1 1,560,000\\n4 04/08/2020 Dunzo Hyper-local Logistics Online Delivery Services Bangalore Existing Backers In Progress 30,000,000\\n5 11/08/2020 Terra.do EduTech Online Climate School, E-learning Stanford, California, Stanford Angels and Entrepreneurs (India), BEENEXT Emerging Asia, Rainmatter Capital\\n\\nSeed 1,400,000\\n6 12/08/2020 Classplus EduTech E-learning, Online Tutoring\\n\\nNoida Falcon Edge In Progress upto 15,000,000\\n7 14/08/2020 Niyo FinTech Financial Services Bangalore Niyo Solutions Inc. 6,000,000\\n8 10/08/2020 ZestMoney FinTech Financial Services Bangalore Primrose Hills Ventures 10,670,000\\n9 07/08/2020 FreshToHome E-commerce Food Delivery Bangalore Ascent Capital Venture 16,200,000\\n10 13/08/2020 Eduvanz FinTech Financial Services Mumbai Sequoia India, Unitus Series A 5,000,000\"]"
      ]
     },
     "execution_count": 8,
     "metadata": {},
     "output_type": "execute_result"
    }
   ],
   "source": [
    "#scraping from july-20 to september-20\n",
    "titles[7:9]"
   ]
  },
  {
   "cell_type": "code",
   "execution_count": null,
   "metadata": {},
   "outputs": [],
   "source": []
  }
 ],
 "metadata": {
  "kernelspec": {
   "display_name": "Python 3",
   "language": "python",
   "name": "python3"
  },
  "language_info": {
   "codemirror_mode": {
    "name": "ipython",
    "version": 3
   },
   "file_extension": ".py",
   "mimetype": "text/x-python",
   "name": "python",
   "nbconvert_exporter": "python",
   "pygments_lexer": "ipython3",
   "version": "3.8.5"
  }
 },
 "nbformat": 4,
 "nbformat_minor": 4
}
