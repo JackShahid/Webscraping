{
 "cells": [
  {
   "cell_type": "markdown",
   "metadata": {},
   "source": [
    "# 10. Write a python program to scrape a data for all available Hostels from https://www.hostelworld.com/ in “London” location. You have to scrape hostel name, distance from city centre, ratings, total reviews, overall reviews, privates from price, dorms from price, facilities and property description."
   ]
  },
  {
   "cell_type": "code",
   "execution_count": 4,
   "metadata": {},
   "outputs": [],
   "source": [
    "driver = webdriver.Chrome(\"chromedriver.exe\")"
   ]
  },
  {
   "cell_type": "code",
   "execution_count": 18,
   "metadata": {},
   "outputs": [],
   "source": [
    "url = \"https://www.hostelworld.com/\"\n",
    "driver.get(url)"
   ]
  },
  {
   "cell_type": "code",
   "execution_count": 6,
   "metadata": {},
   "outputs": [],
   "source": [
    "# store in a variable\n",
    "browser = driver.find_elements_by_xpath"
   ]
  },
  {
   "cell_type": "code",
   "execution_count": 20,
   "metadata": {},
   "outputs": [
    {
     "data": {
      "text/plain": [
       "<selenium.webdriver.remote.webelement.WebElement (session=\"f22eb87b3f9f5bf4003a066d993d9af1\", element=\"c19f6da5-1c1e-499a-a2c6-425abd1d54b5\")>"
      ]
     },
     "execution_count": 20,
     "metadata": {},
     "output_type": "execute_result"
    }
   ],
   "source": [
    "search = driver.find_element_by_xpath(\"//input[@id = 'search-input-field']\")\n",
    "search"
   ]
  },
  {
   "cell_type": "code",
   "execution_count": 21,
   "metadata": {},
   "outputs": [],
   "source": [
    "search.send_keys(\"London\")"
   ]
  },
  {
   "cell_type": "code",
   "execution_count": 23,
   "metadata": {},
   "outputs": [],
   "source": [
    "button = driver.find_element_by_xpath(\"//div[@class = 'label']\")\n",
    "button.click()"
   ]
  },
  {
   "cell_type": "code",
   "execution_count": 24,
   "metadata": {},
   "outputs": [],
   "source": [
    "button1 = driver.find_element_by_xpath(\"//button[@id = 'search-button']\")\n",
    "button1.click()"
   ]
  },
  {
   "cell_type": "code",
   "execution_count": 25,
   "metadata": {},
   "outputs": [
    {
     "data": {
      "text/plain": [
       "['Barmy Badger Backpackers',\n",
       " \"St Christopher's Inn - Liverpool Street\",\n",
       " \"Wombat's The City Hostel London\",\n",
       " 'Hootananny Hostel',\n",
       " 'Smart Hyde Park View Hostel',\n",
       " 'Astor Kensington',\n",
       " \"St Christopher's Camden\",\n",
       " 'Mornington Camden',\n",
       " 'PubLove @ The White Ferry, Victoria',\n",
       " 'Prime Backpackers Angel',\n",
       " 'Park Villa',\n",
       " 'Mapesbury Hostel',\n",
       " \"St Christopher's Village\",\n",
       " 'Safestay London Kensington Holland Park',\n",
       " 'Burlington Residence',\n",
       " 'PubLove @ The Crown, Battersea',\n",
       " 'Pickwick Hall',\n",
       " 'Urbany Hostel London',\n",
       " 'The Finnish Church in London',\n",
       " 'Venture Hostel',\n",
       " 'New Cross Inn Hostel',\n",
       " 'Phoenix Hostel',\n",
       " 'Astor Hyde Park',\n",
       " 'Atlas Hostels',\n",
       " 'Astor Museum Inn',\n",
       " 'Selina Camden',\n",
       " 'PubLove @ The Rose & Crown',\n",
       " 'Le Junction Hostel - Pub & Garden',\n",
       " 'YHA London St Pancras',\n",
       " 'No.8 Willesden Hostel London']"
      ]
     },
     "execution_count": 25,
     "metadata": {},
     "output_type": "execute_result"
    }
   ],
   "source": [
    "name = browser(\"//h2[@class = 'title title-6']\")\n",
    "Hostel_name = []\n",
    "for i in name:\n",
    "    Hostel_name.append(i.text)\n",
    "Hostel_name"
   ]
  },
  {
   "cell_type": "code",
   "execution_count": 66,
   "metadata": {},
   "outputs": [
    {
     "data": {
      "text/plain": [
       "30"
      ]
     },
     "execution_count": 66,
     "metadata": {},
     "output_type": "execute_result"
    }
   ],
   "source": [
    "len(Hostel_name)"
   ]
  },
  {
   "cell_type": "code",
   "execution_count": 27,
   "metadata": {},
   "outputs": [
    {
     "data": {
      "text/plain": [
       "['Hostel - 5.5km from city centre',\n",
       " 'Hostel - 3.2km from city centre',\n",
       " 'Hostel - 3.6km from city centre',\n",
       " 'Hostel - 5km from city centre',\n",
       " 'Hostel - 5km from city centre',\n",
       " 'Hostel - 4.9km from city centre',\n",
       " 'Hostel - 4.3km from city centre',\n",
       " 'Hostel - 4.1km from city centre',\n",
       " 'Hostel - 2.4km from city centre',\n",
       " 'Hostel - 3.6km from city centre',\n",
       " 'Hostel - 6.3km from city centre',\n",
       " 'Hostel - 8.2km from city centre',\n",
       " 'Hostel - 1.8km from city centre',\n",
       " 'Hostel - 5.9km from city centre',\n",
       " 'Hostel - 7.1km from city centre',\n",
       " 'Hostel - 4.7km from city centre',\n",
       " 'Hostel - 2.3km from city centre',\n",
       " 'Hostel - 5.4km from city centre',\n",
       " 'Hostel - 4.5km from city centre',\n",
       " 'Hostel - 6.9km from city centre',\n",
       " 'Hostel - 6.1km from city centre',\n",
       " 'Hostel - 4.2km from city centre',\n",
       " 'Hostel - 4.3km from city centre',\n",
       " 'Hostel - 4.3km from city centre',\n",
       " 'Hostel - 2.2km from city centre',\n",
       " 'Hostel - 5.5km from city centre',\n",
       " 'Hostel - 1.6km from city centre',\n",
       " 'Hostel - 9.8km from city centre',\n",
       " 'Hostel - 3.3km from city centre',\n",
       " 'Hostel - 10km from city centre']"
      ]
     },
     "execution_count": 27,
     "metadata": {},
     "output_type": "execute_result"
    }
   ],
   "source": [
    "distance = browser(\"//span[@class = 'description']\")\n",
    "Distance = []\n",
    "for i in distance:\n",
    "    Distance.append(i.text)\n",
    "Distance"
   ]
  },
  {
   "cell_type": "code",
   "execution_count": 67,
   "metadata": {},
   "outputs": [
    {
     "data": {
      "text/plain": [
       "30"
      ]
     },
     "execution_count": 67,
     "metadata": {},
     "output_type": "execute_result"
    }
   ],
   "source": [
    "len(Distance)"
   ]
  },
  {
   "cell_type": "code",
   "execution_count": 76,
   "metadata": {},
   "outputs": [
    {
     "data": {
      "text/plain": [
       "['9.7',\n",
       " '10',\n",
       " '8.8',\n",
       " '8.3',\n",
       " '8.1',\n",
       " '7.7',\n",
       " '9.0',\n",
       " '10',\n",
       " '9.0',\n",
       " '10',\n",
       " '9.1',\n",
       " '6.3',\n",
       " '8.7',\n",
       " '8.4',\n",
       " '9.3',\n",
       " '6.8',\n",
       " '9.2',\n",
       " '9.8',\n",
       " '10',\n",
       " '6.9',\n",
       " '7.9',\n",
       " '9.1',\n",
       " '9.4',\n",
       " '9.2',\n",
       " '7.9',\n",
       " '6.5',\n",
       " '9.5',\n",
       " '8.7']"
      ]
     },
     "execution_count": 76,
     "metadata": {},
     "output_type": "execute_result"
    }
   ],
   "source": [
    "rating = browser(\"//div[@class = 'score orange big']\")\n",
    "Rating = []\n",
    "for i in rating:\n",
    "    Rating.append(i.text)\n",
    "Rating"
   ]
  },
  {
   "cell_type": "code",
   "execution_count": 77,
   "metadata": {},
   "outputs": [
    {
     "data": {
      "text/plain": [
       "28"
      ]
     },
     "execution_count": 77,
     "metadata": {},
     "output_type": "execute_result"
    }
   ],
   "source": [
    "len(Rating)"
   ]
  },
  {
   "cell_type": "code",
   "execution_count": 31,
   "metadata": {},
   "outputs": [
    {
     "data": {
      "text/plain": [
       "['1659 Total Reviews',\n",
       " '357 Total Reviews',\n",
       " '13191 Total Reviews',\n",
       " '1410 Total Reviews',\n",
       " '4481 Total Reviews',\n",
       " '6329 Total Reviews',\n",
       " '3709 Total Reviews',\n",
       " '41 Total Reviews',\n",
       " '143 Total Reviews',\n",
       " '514 Total Reviews',\n",
       " '846 Total Reviews',\n",
       " '357 Total Reviews',\n",
       " '10854 Total Reviews',\n",
       " '1088 Total Reviews',\n",
       " '30 Total Reviews',\n",
       " '214 Total Reviews',\n",
       " '2231 Total Reviews',\n",
       " '124 Total Reviews',\n",
       " '190 Total Reviews',\n",
       " '1170 Total Reviews',\n",
       " '1015 Total Reviews',\n",
       " '3434 Total Reviews',\n",
       " '11339 Total Reviews',\n",
       " '194 Total Reviews',\n",
       " '8728 Total Reviews',\n",
       " '8 Total Reviews',\n",
       " '101 Total Reviews',\n",
       " '384 Total Reviews',\n",
       " '2781 Total Reviews',\n",
       " '4581 Total Reviews']"
      ]
     },
     "execution_count": 31,
     "metadata": {},
     "output_type": "execute_result"
    }
   ],
   "source": [
    "total = browser(\"//div[@class = 'reviews']\")\n",
    "Total_review = []\n",
    "for i in total:\n",
    "    Total_review.append(i.text)\n",
    "Total_review"
   ]
  },
  {
   "cell_type": "code",
   "execution_count": 69,
   "metadata": {},
   "outputs": [
    {
     "data": {
      "text/plain": [
       "30"
      ]
     },
     "execution_count": 69,
     "metadata": {},
     "output_type": "execute_result"
    }
   ],
   "source": [
    "len(Total_review)"
   ]
  },
  {
   "cell_type": "code",
   "execution_count": 33,
   "metadata": {},
   "outputs": [
    {
     "data": {
      "text/plain": [
       "['Fabulous',\n",
       " 'Superb',\n",
       " 'Fabulous',\n",
       " 'Superb',\n",
       " 'Superb',\n",
       " 'Fabulous',\n",
       " 'Fabulous',\n",
       " 'Fabulous',\n",
       " 'Very Good',\n",
       " 'Superb',\n",
       " 'Superb',\n",
       " 'Superb',\n",
       " 'Superb',\n",
       " 'Superb',\n",
       " 'Good',\n",
       " 'Fabulous',\n",
       " 'Fabulous',\n",
       " 'Superb',\n",
       " 'Good',\n",
       " 'Superb',\n",
       " 'Superb',\n",
       " 'Superb',\n",
       " 'Rating',\n",
       " 'Good',\n",
       " 'Very Good',\n",
       " 'Superb',\n",
       " 'Rating',\n",
       " 'Superb',\n",
       " 'Superb',\n",
       " 'Very Good',\n",
       " 'Good',\n",
       " 'Superb',\n",
       " 'Fabulous']"
      ]
     },
     "execution_count": 33,
     "metadata": {},
     "output_type": "execute_result"
    }
   ],
   "source": [
    "overall = browser(\"//div[@class = 'keyword']\")\n",
    "overall_rating = []\n",
    "for i in overall:\n",
    "    overall_rating.append(i.text)\n",
    "overall_rating"
   ]
  },
  {
   "cell_type": "code",
   "execution_count": 70,
   "metadata": {},
   "outputs": [
    {
     "data": {
      "text/plain": [
       "33"
      ]
     },
     "execution_count": 70,
     "metadata": {},
     "output_type": "execute_result"
    }
   ],
   "source": [
    "len(overall_rating)"
   ]
  },
  {
   "cell_type": "code",
   "execution_count": 39,
   "metadata": {},
   "outputs": [
    {
     "data": {
      "text/plain": [
       "['Rs6068',\n",
       " 'Rs2124',\n",
       " 'Rs1878',\n",
       " 'Rs7893',\n",
       " 'Rs1851',\n",
       " 'Rs1633',\n",
       " 'Rs5674',\n",
       " 'Rs1360',\n",
       " 'Rs1416',\n",
       " 'Rs1608',\n",
       " 'Rs3171',\n",
       " 'Rs20227',\n",
       " 'Rs1686',\n",
       " 'Rs8790',\n",
       " 'Rs2393',\n",
       " 'Rs3439',\n",
       " 'Rs4551',\n",
       " 'Rs7686',\n",
       " 'Rs1406',\n",
       " 'Rs7282',\n",
       " 'Rs2002',\n",
       " 'Rs2063',\n",
       " 'Rs14867',\n",
       " 'Rs1551',\n",
       " 'Rs6675',\n",
       " 'Rs1790',\n",
       " 'Rs2640',\n",
       " 'Rs1127',\n",
       " 'Rs3113',\n",
       " 'Rs1211',\n",
       " 'Rs1207',\n",
       " 'Rs1517',\n",
       " 'Rs9911',\n",
       " 'Rs1618',\n",
       " 'Rs21175',\n",
       " 'Rs2708',\n",
       " 'Rs1719',\n",
       " 'Rs1011',\n",
       " 'Rs6978',\n",
       " 'Rs753']"
      ]
     },
     "execution_count": 39,
     "metadata": {},
     "output_type": "execute_result"
    }
   ],
   "source": [
    "private = browser(\"//div[@class = 'price title-5']\")\n",
    "Private = []\n",
    "for i in private:\n",
    "    Private.append(i.text)\n",
    "Private"
   ]
  },
  {
   "cell_type": "code",
   "execution_count": 71,
   "metadata": {},
   "outputs": [
    {
     "data": {
      "text/plain": [
       "40"
      ]
     },
     "execution_count": 71,
     "metadata": {},
     "output_type": "execute_result"
    }
   ],
   "source": [
    "len(Private)"
   ]
  },
  {
   "cell_type": "code",
   "execution_count": 73,
   "metadata": {},
   "outputs": [
    {
     "data": {
      "text/plain": [
       "['Rs6068',\n",
       " 'Rs2124',\n",
       " 'Rs1878',\n",
       " 'Rs7893',\n",
       " 'Rs1851',\n",
       " 'Rs1633',\n",
       " 'Rs5674',\n",
       " 'Rs1360',\n",
       " 'Rs1416',\n",
       " 'Rs1608',\n",
       " 'Rs3171',\n",
       " 'Rs20227',\n",
       " 'Rs1686',\n",
       " 'Rs8790',\n",
       " 'Rs2393',\n",
       " 'Rs3439',\n",
       " 'Rs4551',\n",
       " 'Rs7686',\n",
       " 'Rs1406',\n",
       " 'Rs7282',\n",
       " 'Rs2002',\n",
       " 'Rs2063',\n",
       " 'Rs14867',\n",
       " 'Rs1551',\n",
       " 'Rs6675',\n",
       " 'Rs1790',\n",
       " 'Rs2640',\n",
       " 'Rs1127',\n",
       " 'Rs3113',\n",
       " 'Rs1211',\n",
       " 'Rs1207',\n",
       " 'Rs1517',\n",
       " 'Rs9911',\n",
       " 'Rs1618',\n",
       " 'Rs21175',\n",
       " 'Rs2708',\n",
       " 'Rs1719',\n",
       " 'Rs1011',\n",
       " 'Rs6978',\n",
       " 'Rs753']"
      ]
     },
     "execution_count": 73,
     "metadata": {},
     "output_type": "execute_result"
    }
   ],
   "source": [
    "dorm = browser(\"//div[@class = 'price title-5']\")\n",
    "Dorm = []\n",
    "for i in dorm:\n",
    "    Dorm.append(i.text)\n",
    "Dorm"
   ]
  },
  {
   "cell_type": "code",
   "execution_count": 74,
   "metadata": {},
   "outputs": [
    {
     "data": {
      "text/plain": [
       "40"
      ]
     },
     "execution_count": 74,
     "metadata": {},
     "output_type": "execute_result"
    }
   ],
   "source": [
    "len(Dorm)"
   ]
  },
  {
   "cell_type": "code",
   "execution_count": 60,
   "metadata": {},
   "outputs": [
    {
     "data": {
      "text/plain": [
       "['Perfect Location',\n",
       " 'Superb Staff',\n",
       " 'Fantastic Cleanliness',\n",
       " 'Perfect Location',\n",
       " 'Superb Staff',\n",
       " 'Fantastic Cleanliness',\n",
       " 'Perfect Location',\n",
       " 'Superb Staff',\n",
       " 'Fantastic Cleanliness',\n",
       " 'Perfect Location',\n",
       " 'Superb Staff',\n",
       " 'Good Cleanliness',\n",
       " 'Perfect Location',\n",
       " 'Superb Staff',\n",
       " 'Excellent Cleanliness',\n",
       " 'Perfect Location',\n",
       " 'Superb Staff',\n",
       " 'Excellent Cleanliness',\n",
       " 'Perfect Location',\n",
       " 'Superb Staff',\n",
       " 'Fantastic Cleanliness',\n",
       " 'Perfect Location',\n",
       " 'Superb Staff',\n",
       " 'Fantastic Cleanliness',\n",
       " 'Perfect Location',\n",
       " 'Superb Staff',\n",
       " 'Fantastic Cleanliness',\n",
       " 'Perfect Location',\n",
       " 'Superb Staff',\n",
       " 'Fantastic Cleanliness',\n",
       " 'Perfect Location',\n",
       " 'Superb Staff',\n",
       " 'Fantastic Cleanliness',\n",
       " 'Great Location',\n",
       " 'Awesome Cleanliness',\n",
       " 'Perfect Location',\n",
       " 'Superb Staff',\n",
       " 'Fantastic Cleanliness',\n",
       " 'Perfect Location',\n",
       " 'Marvellous Staff',\n",
       " 'Fantastic Cleanliness',\n",
       " 'Perfect Location',\n",
       " 'Superb Staff',\n",
       " 'Fantastic Cleanliness',\n",
       " 'Wonderful Location',\n",
       " 'Marvellous Staff',\n",
       " 'Perfect Location',\n",
       " 'Superb Staff',\n",
       " 'Fantastic Cleanliness',\n",
       " 'Perfect Location',\n",
       " 'Superb Staff',\n",
       " 'Fantastic Cleanliness',\n",
       " 'Perfect Location',\n",
       " 'Superb Staff',\n",
       " 'Fantastic Cleanliness',\n",
       " 'Helpful Staff',\n",
       " 'Wonderful Location',\n",
       " 'Marvellous Staff',\n",
       " 'Awesome Cleanliness',\n",
       " 'Perfect Location',\n",
       " 'Superb Staff',\n",
       " 'Excellent Cleanliness',\n",
       " 'Perfect Location',\n",
       " 'Superb Staff',\n",
       " 'Fantastic Cleanliness',\n",
       " 'Perfect Location',\n",
       " 'Superb Staff',\n",
       " 'Fantastic Cleanliness',\n",
       " 'Perfect Location',\n",
       " 'Superb Staff',\n",
       " 'Fantastic Cleanliness',\n",
       " 'Wonderful Location',\n",
       " 'Superb Staff',\n",
       " 'Excellent Cleanliness',\n",
       " 'Great Location',\n",
       " 'Brilliant Staff',\n",
       " 'Awesome Cleanliness',\n",
       " 'Perfect Location',\n",
       " 'Superb Staff',\n",
       " 'Fantastic Cleanliness',\n",
       " 'Perfect Location',\n",
       " 'Superb Staff',\n",
       " 'Fantastic Cleanliness']"
      ]
     },
     "execution_count": 60,
     "metadata": {},
     "output_type": "execute_result"
    }
   ],
   "source": [
    "facility = browser(\"//span[@class = 'rating body-3']\")\n",
    "Facility = []\n",
    "for i in facility:\n",
    "    Facility.append(i.text)\n",
    "Facility"
   ]
  },
  {
   "cell_type": "code",
   "execution_count": 61,
   "metadata": {},
   "outputs": [
    {
     "data": {
      "text/plain": [
       "83"
      ]
     },
     "execution_count": 61,
     "metadata": {},
     "output_type": "execute_result"
    }
   ],
   "source": [
    "len(Facility)"
   ]
  },
  {
   "cell_type": "code",
   "execution_count": 62,
   "metadata": {},
   "outputs": [
    {
     "data": {
      "text/plain": [
       "['Free WiFi',\n",
       " 'Free Breakfast',\n",
       " 'Free WiFi',\n",
       " 'Follows Covid-19 sanitation guidance',\n",
       " 'Free WiFi',\n",
       " 'Follows Covid-19 sanitation guidance',\n",
       " 'Free WiFi',\n",
       " 'Free Breakfast',\n",
       " 'Free WiFi',\n",
       " 'Follows Covid-19 sanitation guidance',\n",
       " 'Free WiFi',\n",
       " 'Follows Covid-19 sanitation guidance',\n",
       " 'Free WiFi',\n",
       " 'Follows Covid-19 sanitation guidance',\n",
       " 'Free WiFi',\n",
       " 'Free WiFi',\n",
       " 'Follows Covid-19 sanitation guidance',\n",
       " 'Free WiFi',\n",
       " 'Follows Covid-19 sanitation guidance',\n",
       " 'Free WiFi',\n",
       " 'Follows Covid-19 sanitation guidance',\n",
       " 'Free WiFi',\n",
       " 'Follows Covid-19 sanitation guidance',\n",
       " 'Free WiFi',\n",
       " 'Follows Covid-19 sanitation guidance',\n",
       " 'Free WiFi',\n",
       " 'Free WiFi',\n",
       " 'Free Breakfast',\n",
       " 'Follows Covid-19 sanitation guidance',\n",
       " 'Free WiFi',\n",
       " 'Follows Covid-19 sanitation guidance',\n",
       " 'Free Breakfast',\n",
       " 'Free WiFi',\n",
       " 'Follows Covid-19 sanitation guidance',\n",
       " 'Free WiFi',\n",
       " 'Follows Covid-19 sanitation guidance',\n",
       " 'Free WiFi',\n",
       " 'Free WiFi',\n",
       " 'Free Breakfast',\n",
       " 'Free WiFi',\n",
       " 'Follows Covid-19 sanitation guidance',\n",
       " 'Free WiFi',\n",
       " 'Follows Covid-19 sanitation guidance',\n",
       " 'Free WiFi',\n",
       " 'Free WiFi',\n",
       " 'Follows Covid-19 sanitation guidance',\n",
       " 'Free WiFi',\n",
       " 'Free WiFi',\n",
       " 'Follows Covid-19 sanitation guidance',\n",
       " 'Free WiFi',\n",
       " 'Follows Covid-19 sanitation guidance',\n",
       " 'Free WiFi',\n",
       " 'Follows Covid-19 sanitation guidance',\n",
       " 'Free WiFi',\n",
       " 'Follows Covid-19 sanitation guidance']"
      ]
     },
     "execution_count": 62,
     "metadata": {},
     "output_type": "execute_result"
    }
   ],
   "source": [
    "description = browser(\"//span[@class = 'label']\")\n",
    "Description = []\n",
    "for i in description:\n",
    "    Description.append(i.text)\n",
    "Description"
   ]
  },
  {
   "cell_type": "code",
   "execution_count": 63,
   "metadata": {},
   "outputs": [
    {
     "data": {
      "text/plain": [
       "55"
      ]
     },
     "execution_count": 63,
     "metadata": {},
     "output_type": "execute_result"
    }
   ],
   "source": [
    "len(Description)"
   ]
  },
  {
   "cell_type": "code",
   "execution_count": 75,
   "metadata": {},
   "outputs": [
    {
     "data": {
      "text/html": [
       "<div>\n",
       "<style scoped>\n",
       "    .dataframe tbody tr th:only-of-type {\n",
       "        vertical-align: middle;\n",
       "    }\n",
       "\n",
       "    .dataframe tbody tr th {\n",
       "        vertical-align: top;\n",
       "    }\n",
       "\n",
       "    .dataframe thead th {\n",
       "        text-align: right;\n",
       "    }\n",
       "</style>\n",
       "<table border=\"1\" class=\"dataframe\">\n",
       "  <thead>\n",
       "    <tr style=\"text-align: right;\">\n",
       "      <th></th>\n",
       "      <th>Hostel_Name</th>\n",
       "      <th>Distance</th>\n",
       "      <th>Rating</th>\n",
       "      <th>Total_review</th>\n",
       "      <th>Overall_review</th>\n",
       "      <th>Private</th>\n",
       "      <th>Dorms</th>\n",
       "      <th>Facility</th>\n",
       "      <th>Description</th>\n",
       "    </tr>\n",
       "  </thead>\n",
       "  <tbody>\n",
       "    <tr>\n",
       "      <th>0</th>\n",
       "      <td>Barmy Badger Backpackers</td>\n",
       "      <td>Hostel - 5.5km from city centre</td>\n",
       "      <td>9.7</td>\n",
       "      <td>1659 Total Reviews</td>\n",
       "      <td>Fabulous</td>\n",
       "      <td>Rs6068</td>\n",
       "      <td>Rs6068</td>\n",
       "      <td>Perfect Location</td>\n",
       "      <td>Free WiFi</td>\n",
       "    </tr>\n",
       "    <tr>\n",
       "      <th>1</th>\n",
       "      <td>St Christopher's Inn - Liverpool Street</td>\n",
       "      <td>Hostel - 3.2km from city centre</td>\n",
       "      <td>10</td>\n",
       "      <td>357 Total Reviews</td>\n",
       "      <td>Superb</td>\n",
       "      <td>Rs2124</td>\n",
       "      <td>Rs2124</td>\n",
       "      <td>Superb Staff</td>\n",
       "      <td>Free Breakfast</td>\n",
       "    </tr>\n",
       "    <tr>\n",
       "      <th>2</th>\n",
       "      <td>Wombat's The City Hostel London</td>\n",
       "      <td>Hostel - 3.6km from city centre</td>\n",
       "      <td>8.8</td>\n",
       "      <td>13191 Total Reviews</td>\n",
       "      <td>Fabulous</td>\n",
       "      <td>Rs1878</td>\n",
       "      <td>Rs1878</td>\n",
       "      <td>Fantastic Cleanliness</td>\n",
       "      <td>Free WiFi</td>\n",
       "    </tr>\n",
       "    <tr>\n",
       "      <th>3</th>\n",
       "      <td>Hootananny Hostel</td>\n",
       "      <td>Hostel - 5km from city centre</td>\n",
       "      <td>8.3</td>\n",
       "      <td>1410 Total Reviews</td>\n",
       "      <td>Superb</td>\n",
       "      <td>Rs7893</td>\n",
       "      <td>Rs7893</td>\n",
       "      <td>Perfect Location</td>\n",
       "      <td>Follows Covid-19 sanitation guidance</td>\n",
       "    </tr>\n",
       "    <tr>\n",
       "      <th>4</th>\n",
       "      <td>Smart Hyde Park View Hostel</td>\n",
       "      <td>Hostel - 5km from city centre</td>\n",
       "      <td>8.1</td>\n",
       "      <td>4481 Total Reviews</td>\n",
       "      <td>Superb</td>\n",
       "      <td>Rs1851</td>\n",
       "      <td>Rs1851</td>\n",
       "      <td>Superb Staff</td>\n",
       "      <td>Free WiFi</td>\n",
       "    </tr>\n",
       "    <tr>\n",
       "      <th>5</th>\n",
       "      <td>Astor Kensington</td>\n",
       "      <td>Hostel - 4.9km from city centre</td>\n",
       "      <td>7.7</td>\n",
       "      <td>6329 Total Reviews</td>\n",
       "      <td>Fabulous</td>\n",
       "      <td>Rs1633</td>\n",
       "      <td>Rs1633</td>\n",
       "      <td>Fantastic Cleanliness</td>\n",
       "      <td>Follows Covid-19 sanitation guidance</td>\n",
       "    </tr>\n",
       "    <tr>\n",
       "      <th>6</th>\n",
       "      <td>St Christopher's Camden</td>\n",
       "      <td>Hostel - 4.3km from city centre</td>\n",
       "      <td>9.0</td>\n",
       "      <td>3709 Total Reviews</td>\n",
       "      <td>Fabulous</td>\n",
       "      <td>Rs5674</td>\n",
       "      <td>Rs5674</td>\n",
       "      <td>Perfect Location</td>\n",
       "      <td>Free WiFi</td>\n",
       "    </tr>\n",
       "    <tr>\n",
       "      <th>7</th>\n",
       "      <td>Mornington Camden</td>\n",
       "      <td>Hostel - 4.1km from city centre</td>\n",
       "      <td>10</td>\n",
       "      <td>41 Total Reviews</td>\n",
       "      <td>Fabulous</td>\n",
       "      <td>Rs1360</td>\n",
       "      <td>Rs1360</td>\n",
       "      <td>Superb Staff</td>\n",
       "      <td>Free Breakfast</td>\n",
       "    </tr>\n",
       "    <tr>\n",
       "      <th>8</th>\n",
       "      <td>PubLove @ The White Ferry, Victoria</td>\n",
       "      <td>Hostel - 2.4km from city centre</td>\n",
       "      <td>9.0</td>\n",
       "      <td>143 Total Reviews</td>\n",
       "      <td>Very Good</td>\n",
       "      <td>Rs1416</td>\n",
       "      <td>Rs1416</td>\n",
       "      <td>Fantastic Cleanliness</td>\n",
       "      <td>Free WiFi</td>\n",
       "    </tr>\n",
       "    <tr>\n",
       "      <th>9</th>\n",
       "      <td>Prime Backpackers Angel</td>\n",
       "      <td>Hostel - 3.6km from city centre</td>\n",
       "      <td>10</td>\n",
       "      <td>514 Total Reviews</td>\n",
       "      <td>Superb</td>\n",
       "      <td>Rs1608</td>\n",
       "      <td>Rs1608</td>\n",
       "      <td>Perfect Location</td>\n",
       "      <td>Follows Covid-19 sanitation guidance</td>\n",
       "    </tr>\n",
       "    <tr>\n",
       "      <th>10</th>\n",
       "      <td>Park Villa</td>\n",
       "      <td>Hostel - 6.3km from city centre</td>\n",
       "      <td>9.1</td>\n",
       "      <td>846 Total Reviews</td>\n",
       "      <td>Superb</td>\n",
       "      <td>Rs3171</td>\n",
       "      <td>Rs3171</td>\n",
       "      <td>Superb Staff</td>\n",
       "      <td>Free WiFi</td>\n",
       "    </tr>\n",
       "    <tr>\n",
       "      <th>11</th>\n",
       "      <td>Mapesbury Hostel</td>\n",
       "      <td>Hostel - 8.2km from city centre</td>\n",
       "      <td>6.3</td>\n",
       "      <td>357 Total Reviews</td>\n",
       "      <td>Superb</td>\n",
       "      <td>Rs20227</td>\n",
       "      <td>Rs20227</td>\n",
       "      <td>Good Cleanliness</td>\n",
       "      <td>Follows Covid-19 sanitation guidance</td>\n",
       "    </tr>\n",
       "    <tr>\n",
       "      <th>12</th>\n",
       "      <td>St Christopher's Village</td>\n",
       "      <td>Hostel - 1.8km from city centre</td>\n",
       "      <td>8.7</td>\n",
       "      <td>10854 Total Reviews</td>\n",
       "      <td>Superb</td>\n",
       "      <td>Rs1686</td>\n",
       "      <td>Rs1686</td>\n",
       "      <td>Perfect Location</td>\n",
       "      <td>Free WiFi</td>\n",
       "    </tr>\n",
       "    <tr>\n",
       "      <th>13</th>\n",
       "      <td>Safestay London Kensington Holland Park</td>\n",
       "      <td>Hostel - 5.9km from city centre</td>\n",
       "      <td>8.4</td>\n",
       "      <td>1088 Total Reviews</td>\n",
       "      <td>Superb</td>\n",
       "      <td>Rs8790</td>\n",
       "      <td>Rs8790</td>\n",
       "      <td>Superb Staff</td>\n",
       "      <td>Follows Covid-19 sanitation guidance</td>\n",
       "    </tr>\n",
       "    <tr>\n",
       "      <th>14</th>\n",
       "      <td>Burlington Residence</td>\n",
       "      <td>Hostel - 7.1km from city centre</td>\n",
       "      <td>9.3</td>\n",
       "      <td>30 Total Reviews</td>\n",
       "      <td>Good</td>\n",
       "      <td>Rs2393</td>\n",
       "      <td>Rs2393</td>\n",
       "      <td>Excellent Cleanliness</td>\n",
       "      <td>Free WiFi</td>\n",
       "    </tr>\n",
       "    <tr>\n",
       "      <th>15</th>\n",
       "      <td>PubLove @ The Crown, Battersea</td>\n",
       "      <td>Hostel - 4.7km from city centre</td>\n",
       "      <td>6.8</td>\n",
       "      <td>214 Total Reviews</td>\n",
       "      <td>Fabulous</td>\n",
       "      <td>Rs3439</td>\n",
       "      <td>Rs3439</td>\n",
       "      <td>Perfect Location</td>\n",
       "      <td>Free WiFi</td>\n",
       "    </tr>\n",
       "    <tr>\n",
       "      <th>16</th>\n",
       "      <td>Pickwick Hall</td>\n",
       "      <td>Hostel - 2.3km from city centre</td>\n",
       "      <td>9.2</td>\n",
       "      <td>2231 Total Reviews</td>\n",
       "      <td>Fabulous</td>\n",
       "      <td>Rs4551</td>\n",
       "      <td>Rs4551</td>\n",
       "      <td>Superb Staff</td>\n",
       "      <td>Follows Covid-19 sanitation guidance</td>\n",
       "    </tr>\n",
       "    <tr>\n",
       "      <th>17</th>\n",
       "      <td>Urbany Hostel London</td>\n",
       "      <td>Hostel - 5.4km from city centre</td>\n",
       "      <td>9.8</td>\n",
       "      <td>124 Total Reviews</td>\n",
       "      <td>Superb</td>\n",
       "      <td>Rs7686</td>\n",
       "      <td>Rs7686</td>\n",
       "      <td>Excellent Cleanliness</td>\n",
       "      <td>Free WiFi</td>\n",
       "    </tr>\n",
       "    <tr>\n",
       "      <th>18</th>\n",
       "      <td>The Finnish Church in London</td>\n",
       "      <td>Hostel - 4.5km from city centre</td>\n",
       "      <td>10</td>\n",
       "      <td>190 Total Reviews</td>\n",
       "      <td>Good</td>\n",
       "      <td>Rs1406</td>\n",
       "      <td>Rs1406</td>\n",
       "      <td>Perfect Location</td>\n",
       "      <td>Follows Covid-19 sanitation guidance</td>\n",
       "    </tr>\n",
       "    <tr>\n",
       "      <th>19</th>\n",
       "      <td>Venture Hostel</td>\n",
       "      <td>Hostel - 6.9km from city centre</td>\n",
       "      <td>6.9</td>\n",
       "      <td>1170 Total Reviews</td>\n",
       "      <td>Superb</td>\n",
       "      <td>Rs7282</td>\n",
       "      <td>Rs7282</td>\n",
       "      <td>Superb Staff</td>\n",
       "      <td>Free WiFi</td>\n",
       "    </tr>\n",
       "    <tr>\n",
       "      <th>20</th>\n",
       "      <td>New Cross Inn Hostel</td>\n",
       "      <td>Hostel - 6.1km from city centre</td>\n",
       "      <td>7.9</td>\n",
       "      <td>1015 Total Reviews</td>\n",
       "      <td>Superb</td>\n",
       "      <td>Rs2002</td>\n",
       "      <td>Rs2002</td>\n",
       "      <td>Fantastic Cleanliness</td>\n",
       "      <td>Follows Covid-19 sanitation guidance</td>\n",
       "    </tr>\n",
       "    <tr>\n",
       "      <th>21</th>\n",
       "      <td>Phoenix Hostel</td>\n",
       "      <td>Hostel - 4.2km from city centre</td>\n",
       "      <td>9.1</td>\n",
       "      <td>3434 Total Reviews</td>\n",
       "      <td>Superb</td>\n",
       "      <td>Rs2063</td>\n",
       "      <td>Rs2063</td>\n",
       "      <td>Perfect Location</td>\n",
       "      <td>Free WiFi</td>\n",
       "    </tr>\n",
       "    <tr>\n",
       "      <th>22</th>\n",
       "      <td>Astor Hyde Park</td>\n",
       "      <td>Hostel - 4.3km from city centre</td>\n",
       "      <td>9.4</td>\n",
       "      <td>11339 Total Reviews</td>\n",
       "      <td>Rating</td>\n",
       "      <td>Rs14867</td>\n",
       "      <td>Rs14867</td>\n",
       "      <td>Superb Staff</td>\n",
       "      <td>Follows Covid-19 sanitation guidance</td>\n",
       "    </tr>\n",
       "    <tr>\n",
       "      <th>23</th>\n",
       "      <td>Atlas Hostels</td>\n",
       "      <td>Hostel - 4.3km from city centre</td>\n",
       "      <td>9.2</td>\n",
       "      <td>194 Total Reviews</td>\n",
       "      <td>Good</td>\n",
       "      <td>Rs1551</td>\n",
       "      <td>Rs1551</td>\n",
       "      <td>Fantastic Cleanliness</td>\n",
       "      <td>Free WiFi</td>\n",
       "    </tr>\n",
       "    <tr>\n",
       "      <th>24</th>\n",
       "      <td>Astor Museum Inn</td>\n",
       "      <td>Hostel - 2.2km from city centre</td>\n",
       "      <td>7.9</td>\n",
       "      <td>8728 Total Reviews</td>\n",
       "      <td>Very Good</td>\n",
       "      <td>Rs6675</td>\n",
       "      <td>Rs6675</td>\n",
       "      <td>Perfect Location</td>\n",
       "      <td>Follows Covid-19 sanitation guidance</td>\n",
       "    </tr>\n",
       "    <tr>\n",
       "      <th>25</th>\n",
       "      <td>Selina Camden</td>\n",
       "      <td>Hostel - 5.5km from city centre</td>\n",
       "      <td>6.5</td>\n",
       "      <td>8 Total Reviews</td>\n",
       "      <td>Superb</td>\n",
       "      <td>Rs1790</td>\n",
       "      <td>Rs1790</td>\n",
       "      <td>Superb Staff</td>\n",
       "      <td>Free WiFi</td>\n",
       "    </tr>\n",
       "    <tr>\n",
       "      <th>26</th>\n",
       "      <td>PubLove @ The Rose &amp; Crown</td>\n",
       "      <td>Hostel - 1.6km from city centre</td>\n",
       "      <td>9.5</td>\n",
       "      <td>101 Total Reviews</td>\n",
       "      <td>Rating</td>\n",
       "      <td>Rs2640</td>\n",
       "      <td>Rs2640</td>\n",
       "      <td>Fantastic Cleanliness</td>\n",
       "      <td>Free WiFi</td>\n",
       "    </tr>\n",
       "    <tr>\n",
       "      <th>27</th>\n",
       "      <td>Le Junction Hostel - Pub &amp; Garden</td>\n",
       "      <td>Hostel - 9.8km from city centre</td>\n",
       "      <td>8.7</td>\n",
       "      <td>384 Total Reviews</td>\n",
       "      <td>Superb</td>\n",
       "      <td>Rs1127</td>\n",
       "      <td>Rs1127</td>\n",
       "      <td>Perfect Location</td>\n",
       "      <td>Free Breakfast</td>\n",
       "    </tr>\n",
       "  </tbody>\n",
       "</table>\n",
       "</div>"
      ],
      "text/plain": [
       "                                Hostel_Name                         Distance  \\\n",
       "0                  Barmy Badger Backpackers  Hostel - 5.5km from city centre   \n",
       "1   St Christopher's Inn - Liverpool Street  Hostel - 3.2km from city centre   \n",
       "2           Wombat's The City Hostel London  Hostel - 3.6km from city centre   \n",
       "3                         Hootananny Hostel    Hostel - 5km from city centre   \n",
       "4               Smart Hyde Park View Hostel    Hostel - 5km from city centre   \n",
       "5                          Astor Kensington  Hostel - 4.9km from city centre   \n",
       "6                   St Christopher's Camden  Hostel - 4.3km from city centre   \n",
       "7                         Mornington Camden  Hostel - 4.1km from city centre   \n",
       "8       PubLove @ The White Ferry, Victoria  Hostel - 2.4km from city centre   \n",
       "9                   Prime Backpackers Angel  Hostel - 3.6km from city centre   \n",
       "10                               Park Villa  Hostel - 6.3km from city centre   \n",
       "11                         Mapesbury Hostel  Hostel - 8.2km from city centre   \n",
       "12                 St Christopher's Village  Hostel - 1.8km from city centre   \n",
       "13  Safestay London Kensington Holland Park  Hostel - 5.9km from city centre   \n",
       "14                     Burlington Residence  Hostel - 7.1km from city centre   \n",
       "15           PubLove @ The Crown, Battersea  Hostel - 4.7km from city centre   \n",
       "16                            Pickwick Hall  Hostel - 2.3km from city centre   \n",
       "17                     Urbany Hostel London  Hostel - 5.4km from city centre   \n",
       "18             The Finnish Church in London  Hostel - 4.5km from city centre   \n",
       "19                           Venture Hostel  Hostel - 6.9km from city centre   \n",
       "20                     New Cross Inn Hostel  Hostel - 6.1km from city centre   \n",
       "21                           Phoenix Hostel  Hostel - 4.2km from city centre   \n",
       "22                          Astor Hyde Park  Hostel - 4.3km from city centre   \n",
       "23                            Atlas Hostels  Hostel - 4.3km from city centre   \n",
       "24                         Astor Museum Inn  Hostel - 2.2km from city centre   \n",
       "25                            Selina Camden  Hostel - 5.5km from city centre   \n",
       "26               PubLove @ The Rose & Crown  Hostel - 1.6km from city centre   \n",
       "27        Le Junction Hostel - Pub & Garden  Hostel - 9.8km from city centre   \n",
       "\n",
       "   Rating         Total_review Overall_review  Private    Dorms  \\\n",
       "0     9.7   1659 Total Reviews       Fabulous   Rs6068   Rs6068   \n",
       "1      10    357 Total Reviews         Superb   Rs2124   Rs2124   \n",
       "2     8.8  13191 Total Reviews       Fabulous   Rs1878   Rs1878   \n",
       "3     8.3   1410 Total Reviews         Superb   Rs7893   Rs7893   \n",
       "4     8.1   4481 Total Reviews         Superb   Rs1851   Rs1851   \n",
       "5     7.7   6329 Total Reviews       Fabulous   Rs1633   Rs1633   \n",
       "6     9.0   3709 Total Reviews       Fabulous   Rs5674   Rs5674   \n",
       "7      10     41 Total Reviews       Fabulous   Rs1360   Rs1360   \n",
       "8     9.0    143 Total Reviews      Very Good   Rs1416   Rs1416   \n",
       "9      10    514 Total Reviews         Superb   Rs1608   Rs1608   \n",
       "10    9.1    846 Total Reviews         Superb   Rs3171   Rs3171   \n",
       "11    6.3    357 Total Reviews         Superb  Rs20227  Rs20227   \n",
       "12    8.7  10854 Total Reviews         Superb   Rs1686   Rs1686   \n",
       "13    8.4   1088 Total Reviews         Superb   Rs8790   Rs8790   \n",
       "14    9.3     30 Total Reviews           Good   Rs2393   Rs2393   \n",
       "15    6.8    214 Total Reviews       Fabulous   Rs3439   Rs3439   \n",
       "16    9.2   2231 Total Reviews       Fabulous   Rs4551   Rs4551   \n",
       "17    9.8    124 Total Reviews         Superb   Rs7686   Rs7686   \n",
       "18     10    190 Total Reviews           Good   Rs1406   Rs1406   \n",
       "19    6.9   1170 Total Reviews         Superb   Rs7282   Rs7282   \n",
       "20    7.9   1015 Total Reviews         Superb   Rs2002   Rs2002   \n",
       "21    9.1   3434 Total Reviews         Superb   Rs2063   Rs2063   \n",
       "22    9.4  11339 Total Reviews         Rating  Rs14867  Rs14867   \n",
       "23    9.2    194 Total Reviews           Good   Rs1551   Rs1551   \n",
       "24    7.9   8728 Total Reviews      Very Good   Rs6675   Rs6675   \n",
       "25    6.5      8 Total Reviews         Superb   Rs1790   Rs1790   \n",
       "26    9.5    101 Total Reviews         Rating   Rs2640   Rs2640   \n",
       "27    8.7    384 Total Reviews         Superb   Rs1127   Rs1127   \n",
       "\n",
       "                 Facility                           Description  \n",
       "0        Perfect Location                             Free WiFi  \n",
       "1            Superb Staff                        Free Breakfast  \n",
       "2   Fantastic Cleanliness                             Free WiFi  \n",
       "3        Perfect Location  Follows Covid-19 sanitation guidance  \n",
       "4            Superb Staff                             Free WiFi  \n",
       "5   Fantastic Cleanliness  Follows Covid-19 sanitation guidance  \n",
       "6        Perfect Location                             Free WiFi  \n",
       "7            Superb Staff                        Free Breakfast  \n",
       "8   Fantastic Cleanliness                             Free WiFi  \n",
       "9        Perfect Location  Follows Covid-19 sanitation guidance  \n",
       "10           Superb Staff                             Free WiFi  \n",
       "11       Good Cleanliness  Follows Covid-19 sanitation guidance  \n",
       "12       Perfect Location                             Free WiFi  \n",
       "13           Superb Staff  Follows Covid-19 sanitation guidance  \n",
       "14  Excellent Cleanliness                             Free WiFi  \n",
       "15       Perfect Location                             Free WiFi  \n",
       "16           Superb Staff  Follows Covid-19 sanitation guidance  \n",
       "17  Excellent Cleanliness                             Free WiFi  \n",
       "18       Perfect Location  Follows Covid-19 sanitation guidance  \n",
       "19           Superb Staff                             Free WiFi  \n",
       "20  Fantastic Cleanliness  Follows Covid-19 sanitation guidance  \n",
       "21       Perfect Location                             Free WiFi  \n",
       "22           Superb Staff  Follows Covid-19 sanitation guidance  \n",
       "23  Fantastic Cleanliness                             Free WiFi  \n",
       "24       Perfect Location  Follows Covid-19 sanitation guidance  \n",
       "25           Superb Staff                             Free WiFi  \n",
       "26  Fantastic Cleanliness                             Free WiFi  \n",
       "27       Perfect Location                        Free Breakfast  "
      ]
     },
     "execution_count": 75,
     "metadata": {},
     "output_type": "execute_result"
    }
   ],
   "source": [
    "hostel = pd.DataFrame({})\n",
    "hostel['Hostel_Name'] = Hostel_name[:28]\n",
    "hostel['Distance'] = Distance[:28]\n",
    "hostel['Rating'] = Rating[:28]\n",
    "hostel['Total_review'] = Total_review[:28]\n",
    "hostel['Overall_review'] = overall_rating[:28]\n",
    "hostel['Private'] = Private[:28]\n",
    "hostel['Dorms'] = Dorm[:28]\n",
    "hostel['Facility'] =Facility[:28]\n",
    "hostel['Description'] = Description[:28]\n",
    "hostel"
   ]
  }
 ],
 "metadata": {
  "kernelspec": {
   "display_name": "Python 3",
   "language": "python",
   "name": "python3"
  },
  "language_info": {
   "codemirror_mode": {
    "name": "ipython",
    "version": 3
   },
   "file_extension": ".py",
   "mimetype": "text/x-python",
   "name": "python",
   "nbconvert_exporter": "python",
   "pygments_lexer": "ipython3",
   "version": "3.8.5"
  }
 },
 "nbformat": 4,
 "nbformat_minor": 4
}
