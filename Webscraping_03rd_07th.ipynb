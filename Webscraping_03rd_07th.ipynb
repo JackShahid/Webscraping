{
 "cells": [
  {
   "cell_type": "markdown",
   "metadata": {},
   "source": [
    "# 7. Write a program to scrap all the available details of best gaming laptops from digit.in."
   ]
  },
  {
   "cell_type": "code",
   "execution_count": 13,
   "metadata": {},
   "outputs": [],
   "source": [
    "import pandas as pd\n",
    "import selenium \n",
    "from selenium import webdriver\n",
    "from selenium.common.exceptions import StaleElementReferenceException, NoSuchElementException"
   ]
  },
  {
   "cell_type": "code",
   "execution_count": 14,
   "metadata": {},
   "outputs": [],
   "source": [
    "browser = webdriver.Chrome()\n",
    "browser.get(\"https://www.digit.in/top-products/best-laptop-for-programmers-3575.html\")"
   ]
  },
  {
   "cell_type": "code",
   "execution_count": 15,
   "metadata": {},
   "outputs": [
    {
     "data": {
      "text/plain": [
       "[<selenium.webdriver.remote.webelement.WebElement (session=\"0b11caf049cf7fcbd8f6ae208df90f0e\", element=\"06a71c20-b052-41d5-804a-5cf16b8ee8bf\")>,\n",
       " <selenium.webdriver.remote.webelement.WebElement (session=\"0b11caf049cf7fcbd8f6ae208df90f0e\", element=\"4c5882ac-fb91-424c-a90e-79270e3055d8\")>,\n",
       " <selenium.webdriver.remote.webelement.WebElement (session=\"0b11caf049cf7fcbd8f6ae208df90f0e\", element=\"dd59496c-8c32-403d-b1b9-47ed0d569d88\")>,\n",
       " <selenium.webdriver.remote.webelement.WebElement (session=\"0b11caf049cf7fcbd8f6ae208df90f0e\", element=\"5aa36c8d-823d-469e-8a6d-472159bae881\")>,\n",
       " <selenium.webdriver.remote.webelement.WebElement (session=\"0b11caf049cf7fcbd8f6ae208df90f0e\", element=\"115dfe3b-7fb0-4bfa-bf8a-da2d9fbd7f0e\")>]"
      ]
     },
     "execution_count": 15,
     "metadata": {},
     "output_type": "execute_result"
    }
   ],
   "source": [
    "title_tags = browser.find_elements_by_xpath(\"//div[@class='TopNumbeHeading active sticky-footer']\")\n",
    "title_tags"
   ]
  },
  {
   "cell_type": "code",
   "execution_count": 16,
   "metadata": {},
   "outputs": [],
   "source": [
    "titles=[]\n",
    "for i in title_tags:\n",
    "    title=i.text\n",
    "    titles.append(title)"
   ]
  },
  {
   "cell_type": "code",
   "execution_count": 17,
   "metadata": {},
   "outputs": [
    {
     "data": {
      "text/plain": [
       "['1.\\nAPPLE MACBOOK AIR M1',\n",
       " '2.\\nACER SWIFT 3',\n",
       " '3.\\nDELL XPS 15',\n",
       " '4.\\nAPPLE MACBOOK PRO 16-INCH',\n",
       " '5.\\nHP ENVY 15']"
      ]
     },
     "execution_count": 17,
     "metadata": {},
     "output_type": "execute_result"
    }
   ],
   "source": [
    "titles"
   ]
  },
  {
   "cell_type": "code",
   "execution_count": 18,
   "metadata": {},
   "outputs": [
    {
     "data": {
      "text/plain": [
       "[<selenium.webdriver.remote.webelement.WebElement (session=\"0b11caf049cf7fcbd8f6ae208df90f0e\", element=\"1677f38c-a420-40ad-8a00-abf449b9d950\")>,\n",
       " <selenium.webdriver.remote.webelement.WebElement (session=\"0b11caf049cf7fcbd8f6ae208df90f0e\", element=\"b27d6683-9a39-44fb-95ca-cd43e04c491c\")>,\n",
       " <selenium.webdriver.remote.webelement.WebElement (session=\"0b11caf049cf7fcbd8f6ae208df90f0e\", element=\"6e4e297d-e98b-4492-8469-758beba8da62\")>,\n",
       " <selenium.webdriver.remote.webelement.WebElement (session=\"0b11caf049cf7fcbd8f6ae208df90f0e\", element=\"bfc449bb-3c0c-495d-8e57-e4825c89e514\")>,\n",
       " <selenium.webdriver.remote.webelement.WebElement (session=\"0b11caf049cf7fcbd8f6ae208df90f0e\", element=\"2cca71e5-638d-4266-b168-2cdf0c6d1abb\")>]"
      ]
     },
     "execution_count": 18,
     "metadata": {},
     "output_type": "execute_result"
    }
   ],
   "source": [
    "windows_tags = browser.find_elements_by_xpath(\"//div[@class='product-detail']\")\n",
    "windows_tags"
   ]
  },
  {
   "cell_type": "code",
   "execution_count": 19,
   "metadata": {},
   "outputs": [],
   "source": [
    "productdetail=[]\n",
    "for i in windows_tags:\n",
    "    wind=i.text\n",
    "    productdetail.append(wind)"
   ]
  },
  {
   "cell_type": "code",
   "execution_count": 20,
   "metadata": {},
   "outputs": [
    {
     "data": {
      "text/plain": [
       "['OS\\nMACOS 10.14 MOJAVE\\nDISPLAY\\n13.3\" (2560 X 1600)\\nPROCESSOR\\n8-CORE CPU | NA\\nMEMORY\\n256 GB SSD/8 GBGB DDR4\\nFULL SPECS OTHER APPLE LAPTOPS',\n",
       " 'OS\\nWINDOWS 10 HOME\\nDISPLAY\\n14 INCH\" (1920 X 1080)\\nPROCESSOR\\nRYZEN 5 4500U | 4.0GHZ\\nMEMORY\\n512 GB NVME/8 GBGB LPDDR4\\nFULL SPECS OTHER ACER LAPTOPS',\n",
       " 'OS\\nWINDOWS 10 HOME\\nDISPLAY\\n15.6\" (3840 X 2400)\\nPROCESSOR\\n10TH-GENERATION INTEL CORE I9-10885H | NA\\nMEMORY\\n256 GB SSD/16 GBGB DDR4\\nFULL SPECS OTHER DELL LAPTOPS',\n",
       " 'OS\\nIOS\\nDISPLAY\\n16\" (3072 X 1920)\\nPROCESSOR\\nINTEL CORE I9 8TH GEN | NA\\nMEMORY\\n512 GB SSD/16 GBGB DDR3\\nREAD REVIEW FULL SPECS OTHER APPLE LAPTOPS',\n",
       " 'OS\\nWINDOWS 10\\nDISPLAY\\n15\" (1920 X 1080)\\nPROCESSOR\\nINTEL I7-10750H 10TH GEN | 2.6 GHZ\\nMEMORY\\n1 TB SSD/16 GBGB DDR4\\nREAD REVIEW FULL SPECS OTHER HP LAPTOPS']"
      ]
     },
     "execution_count": 20,
     "metadata": {},
     "output_type": "execute_result"
    }
   ],
   "source": [
    "productdetail"
   ]
  },
  {
   "cell_type": "code",
   "execution_count": 21,
   "metadata": {},
   "outputs": [
    {
     "data": {
      "text/plain": [
       "['https://static.digit.in/product/thumb_181239_product_td_300.jpeg',\n",
       " 'https://www.digit.in/images/digit_topten_icon.png',\n",
       " 'https://www.digit.in/images/digit_topten_icon.png',\n",
       " 'https://www.digit.in/images/digit_topten_icon.png',\n",
       " 'https://www.digit.in/images/digit_topten_icon.png']"
      ]
     },
     "execution_count": 21,
     "metadata": {},
     "output_type": "execute_result"
    }
   ],
   "source": [
    "urls=browser.find_elements_by_xpath(\"//div[@class='product-ickon']/img\")\n",
    "UR=[]\n",
    "for i in urls:\n",
    "    UR.append(i.get_attribute('src'))\n",
    "UR"
   ]
  },
  {
   "cell_type": "code",
   "execution_count": 22,
   "metadata": {},
   "outputs": [
    {
     "data": {
      "text/html": [
       "<div>\n",
       "<style scoped>\n",
       "    .dataframe tbody tr th:only-of-type {\n",
       "        vertical-align: middle;\n",
       "    }\n",
       "\n",
       "    .dataframe tbody tr th {\n",
       "        vertical-align: top;\n",
       "    }\n",
       "\n",
       "    .dataframe thead th {\n",
       "        text-align: right;\n",
       "    }\n",
       "</style>\n",
       "<table border=\"1\" class=\"dataframe\">\n",
       "  <thead>\n",
       "    <tr style=\"text-align: right;\">\n",
       "      <th></th>\n",
       "      <th>titles</th>\n",
       "      <th>productdetail</th>\n",
       "      <th>imageurl</th>\n",
       "    </tr>\n",
       "  </thead>\n",
       "  <tbody>\n",
       "    <tr>\n",
       "      <th>0</th>\n",
       "      <td>1.\\nAPPLE MACBOOK AIR M1</td>\n",
       "      <td>OS\\nMACOS 10.14 MOJAVE\\nDISPLAY\\n13.3\" (2560 X...</td>\n",
       "      <td>https://static.digit.in/product/thumb_181239_p...</td>\n",
       "    </tr>\n",
       "    <tr>\n",
       "      <th>1</th>\n",
       "      <td>2.\\nACER SWIFT 3</td>\n",
       "      <td>OS\\nWINDOWS 10 HOME\\nDISPLAY\\n14 INCH\" (1920 X...</td>\n",
       "      <td>https://www.digit.in/images/digit_topten_icon.png</td>\n",
       "    </tr>\n",
       "    <tr>\n",
       "      <th>2</th>\n",
       "      <td>3.\\nDELL XPS 15</td>\n",
       "      <td>OS\\nWINDOWS 10 HOME\\nDISPLAY\\n15.6\" (3840 X 24...</td>\n",
       "      <td>https://www.digit.in/images/digit_topten_icon.png</td>\n",
       "    </tr>\n",
       "    <tr>\n",
       "      <th>3</th>\n",
       "      <td>4.\\nAPPLE MACBOOK PRO 16-INCH</td>\n",
       "      <td>OS\\nIOS\\nDISPLAY\\n16\" (3072 X 1920)\\nPROCESSOR...</td>\n",
       "      <td>https://www.digit.in/images/digit_topten_icon.png</td>\n",
       "    </tr>\n",
       "    <tr>\n",
       "      <th>4</th>\n",
       "      <td>5.\\nHP ENVY 15</td>\n",
       "      <td>OS\\nWINDOWS 10\\nDISPLAY\\n15\" (1920 X 1080)\\nPR...</td>\n",
       "      <td>https://www.digit.in/images/digit_topten_icon.png</td>\n",
       "    </tr>\n",
       "  </tbody>\n",
       "</table>\n",
       "</div>"
      ],
      "text/plain": [
       "                          titles  \\\n",
       "0       1.\\nAPPLE MACBOOK AIR M1   \n",
       "1               2.\\nACER SWIFT 3   \n",
       "2                3.\\nDELL XPS 15   \n",
       "3  4.\\nAPPLE MACBOOK PRO 16-INCH   \n",
       "4                 5.\\nHP ENVY 15   \n",
       "\n",
       "                                       productdetail  \\\n",
       "0  OS\\nMACOS 10.14 MOJAVE\\nDISPLAY\\n13.3\" (2560 X...   \n",
       "1  OS\\nWINDOWS 10 HOME\\nDISPLAY\\n14 INCH\" (1920 X...   \n",
       "2  OS\\nWINDOWS 10 HOME\\nDISPLAY\\n15.6\" (3840 X 24...   \n",
       "3  OS\\nIOS\\nDISPLAY\\n16\" (3072 X 1920)\\nPROCESSOR...   \n",
       "4  OS\\nWINDOWS 10\\nDISPLAY\\n15\" (1920 X 1080)\\nPR...   \n",
       "\n",
       "                                            imageurl  \n",
       "0  https://static.digit.in/product/thumb_181239_p...  \n",
       "1  https://www.digit.in/images/digit_topten_icon.png  \n",
       "2  https://www.digit.in/images/digit_topten_icon.png  \n",
       "3  https://www.digit.in/images/digit_topten_icon.png  \n",
       "4  https://www.digit.in/images/digit_topten_icon.png  "
      ]
     },
     "execution_count": 22,
     "metadata": {},
     "output_type": "execute_result"
    }
   ],
   "source": [
    "\n",
    "digit=pd.DataFrame({})\n",
    "digit['titles']=titles\n",
    "digit['productdetail']=productdetail\n",
    "digit['imageurl']=UR\n",
    "digit"
   ]
  },
  {
   "cell_type": "code",
   "execution_count": null,
   "metadata": {},
   "outputs": [],
   "source": []
  }
 ],
 "metadata": {
  "kernelspec": {
   "display_name": "Python 3",
   "language": "python",
   "name": "python3"
  },
  "language_info": {
   "codemirror_mode": {
    "name": "ipython",
    "version": 3
   },
   "file_extension": ".py",
   "mimetype": "text/x-python",
   "name": "python",
   "nbconvert_exporter": "python",
   "pygments_lexer": "ipython3",
   "version": "3.8.5"
  }
 },
 "nbformat": 4,
 "nbformat_minor": 4
}
